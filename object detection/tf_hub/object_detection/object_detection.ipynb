{
 "cells": [
  {
   "cell_type": "code",
   "execution_count": 1,
   "metadata": {},
   "outputs": [],
   "source": [
    "import tensorflow as tf\n",
    "import tensorflow_hub as hub\n",
    "from tensorflow.keras.preprocessing.image import ImageDataGenerator\n",
    "from tensorflow.keras.preprocessing.image import ImageDataGenerator, array_to_img, img_to_array, load_img\n",
    "import cv2\n",
    "import numpy as np\n",
    "import os\n",
    "import pandas as pd\n",
    "from sklearn import model_selection, utils, metrics\n",
    "import shutil\n",
    "import random"
   ]
  },
  {
   "cell_type": "code",
   "execution_count": 3,
   "metadata": {},
   "outputs": [
    {
     "name": "stdout",
     "output_type": "stream",
     "text": [
      "--2020-11-19 16:40:26--  https://www.smartcitiesworld.net/AcuCustom/Sitename/DAM/017/city_roads_in_America_Adobe.jpg\n",
      "Resolving www.smartcitiesworld.net (www.smartcitiesworld.net)... 172.67.177.198, 104.28.16.181, 104.28.17.181, ...\n",
      "Connecting to www.smartcitiesworld.net (www.smartcitiesworld.net)|172.67.177.198|:443... connected.\n",
      "HTTP request sent, awaiting response... 200 OK\n",
      "Length: 265203 (259K) [image/jpeg]\n",
      "Saving to: ‘city_roads_in_America_Adobe.jpg’\n",
      "\n",
      "city_roads_in_Ameri 100%[===================>] 258.99K  1.04MB/s    in 0.2s    \n",
      "\n",
      "2020-11-19 16:40:26 (1.04 MB/s) - ‘city_roads_in_America_Adobe.jpg’ saved [265203/265203]\n",
      "\n"
     ]
    }
   ],
   "source": [
    "!wget https://www.smartcitiesworld.net/AcuCustom/Sitename/DAM/017/city_roads_in_America_Adobe.jpg"
   ]
  },
  {
   "cell_type": "code",
   "execution_count": 15,
   "metadata": {},
   "outputs": [],
   "source": [
    "img_arr = cv2.imread('image.jpg')\n",
    "img_arr = np.resize(img_arr, (1, 256, 256, 3))\n",
    "img_tensor = tf.convert_to_tensor(img_arr, dtype=float)"
   ]
  },
  {
   "cell_type": "code",
   "execution_count": 17,
   "metadata": {},
   "outputs": [
    {
     "name": "stdout",
     "output_type": "stream",
     "text": [
      "INFO:tensorflow:Saver not created because there are no variables in the graph to restore\n"
     ]
    },
    {
     "name": "stderr",
     "output_type": "stream",
     "text": [
      "INFO:tensorflow:Saver not created because there are no variables in the graph to restore\n"
     ]
    }
   ],
   "source": [
    "# Apply image detector on a single image.\n",
    "detector = hub.load(\"https://tfhub.dev/google/openimages_v4/ssd/mobilenet_v2/1\")\n",
    "detector_output = detector.signatures['default'](img_tensor)\n",
    "class_names = detector_output[\"detection_class_names\"]"
   ]
  },
  {
   "cell_type": "code",
   "execution_count": 20,
   "metadata": {},
   "outputs": [],
   "source": [
    "def get_predictions(path):\n",
    "    img_arr = cv2.imread(path)\n",
    "    img_arr = np.resize(img_arr, (1, 256, 256, 3))\n",
    "    img_tensor = tf.convert_to_tensor(img_arr, dtype=float)\n",
    "    detector = hub.load(\"https://tfhub.dev/google/openimages_v4/ssd/mobilenet_v2/1\")\n",
    "    detector_output = detector.signatures['default'](img_tensor)\n",
    "    class_names = detector_output[\"detection_class_names\"]\n",
    "    \n",
    "    return class_names"
   ]
  },
  {
   "cell_type": "code",
   "execution_count": null,
   "metadata": {},
   "outputs": [],
   "source": []
  }
 ],
 "metadata": {
  "kernelspec": {
   "display_name": "conda_python3",
   "language": "python",
   "name": "conda_python3"
  },
  "language_info": {
   "codemirror_mode": {
    "name": "ipython",
    "version": 3
   },
   "file_extension": ".py",
   "mimetype": "text/x-python",
   "name": "python",
   "nbconvert_exporter": "python",
   "pygments_lexer": "ipython3",
   "version": "3.6.10"
  }
 },
 "nbformat": 4,
 "nbformat_minor": 4
}
